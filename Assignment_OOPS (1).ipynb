{
 "cells": [
  {
   "cell_type": "code",
   "execution_count": null,
   "id": "dd2c2cec-48fd-462b-b366-82a8e0d9d3ba",
   "metadata": {},
   "outputs": [],
   "source": [
    "#Theory Question\n",
    "#Q1. What is Object-Oriented Programming (OOP)?\n",
    "#Ans : Object-Oriented Programming (OOP) is a programming paradigm that organizes software design around data, or \"objects,\" rather than functions and logic."
   ]
  },
  {
   "cell_type": "code",
   "execution_count": null,
   "id": "c269f0e6-b335-42fd-8404-ec3a07be9068",
   "metadata": {},
   "outputs": [],
   "source": [
    "#Q2. What is a class in OOP?\n",
    "#Ans : A class in OOP is a blueprint for creating objects, defining their attributes (data) and methods (functions)."
   ]
  },
  {
   "cell_type": "code",
   "execution_count": null,
   "id": "7552e4a9-2b0b-4bd9-b391-c33133fe1a3f",
   "metadata": {},
   "outputs": [],
   "source": [
    "#Q3.  What is an object in OOP?\n",
    "#Ans : An object in OOP is an instance of a class, representing a specific entity with its own data and behavior. It's a concrete realization of the class's blueprint."
   ]
  },
  {
   "cell_type": "code",
   "execution_count": null,
   "id": "a078c19e-a7d9-4a1d-a6d5-f113f6d6912a",
   "metadata": {},
   "outputs": [],
   "source": [
    "#Q4. What is the difference between abstraction and encapsulation?\n",
    "#Ans : Abstraction focuses on hiding unnecessary details and showing only essential information, emphasizing \"what\" an object does.\n",
    "# Encapsulation focuses on bundling data and methods together and protecting data from unauthorized access, emphasizing \"how\" an object does it, and protecting that process."
   ]
  },
  {
   "cell_type": "code",
   "execution_count": null,
   "id": "1748dc8b-3bfd-4fe5-be65-aa3dbf4d9b53",
   "metadata": {},
   "outputs": [],
   "source": [
    "#Q5. What are dunder methods in Python?\n",
    "#Ans : Dunder methods in Python are special methods with double underscores at the beginning and end of their names (e.g., __init__, __str__). "
   ]
  },
  {
   "cell_type": "code",
   "execution_count": null,
   "id": "8d032bcd-d65e-42ed-9b66-61b13c49eed3",
   "metadata": {},
   "outputs": [],
   "source": [
    "#Q6. Explain the concept of inheritance in OOP?\n",
    "#Ans : Inheritance in OOP allows a new class (subclass/derived class) to inherit properties and behaviors from an existing class (superclass/base class). This promotes code reusability and establishes an \"is-a\" relationship between classes."
   ]
  },
  {
   "cell_type": "code",
   "execution_count": null,
   "id": "27ba6a25-8e50-46cf-b23f-2ab5e68a52cb",
   "metadata": {},
   "outputs": [],
   "source": [
    "#Q7. What is polymorphism in OOP?\n",
    "#Ans : Polymorphism in OOP allows objects of different classes to be treated as objects of a common type. It enables a single interface to represent multiple underlying forms, facilitating flexibility and code extensibility."
   ]
  },
  {
   "cell_type": "code",
   "execution_count": null,
   "id": "05e39f23-d482-4360-82af-38172e2c5fc9",
   "metadata": {},
   "outputs": [],
   "source": [
    "#Q8. How is encapsulation achieved in Python?\n",
    "#Ans : Encapsulation in Python is achieved by bundling data and methods within a class and controlling access to them using naming conventions (like single or double underscores for attributes) and properties"
   ]
  },
  {
   "cell_type": "code",
   "execution_count": null,
   "id": "d3db9166-59c3-49d9-a182-aa1a28cfd54c",
   "metadata": {},
   "outputs": [],
   "source": [
    "#Q9.  What is a constructor in Python?\n",
    "#Ans : In Python, a constructor is a special method called __init__ that's automatically executed when an object is created from a class. Its primary purpose is to initialize the object's attributes, setting up its initial state."
   ]
  },
  {
   "cell_type": "code",
   "execution_count": null,
   "id": "fe9b3914-4403-4a5d-b53b-3931c1e1704f",
   "metadata": {},
   "outputs": [],
   "source": [
    "#Q10.  What are class and static methods in Python?\n",
    "#Ans : Class methods are bound to the class and take the class itself as the first argument (cls), allowing them to modify class-level attributes.\n",
    "# Static methods are bound to the class but don't take the class or instance as an implicit first argument, functioning like regular functions within the class's namespace."
   ]
  },
  {
   "cell_type": "code",
   "execution_count": null,
   "id": "32c66de5-e21e-4b48-8a37-f9db9661d1c6",
   "metadata": {},
   "outputs": [],
   "source": [
    "#Q11. What is method overloading in Python?\n",
    "#Ans : In Python, method overloading isn't directly supported; instead, it's achieved using default or variable arguments (*args, **kwargs) to allow a single method to handle different parameter scenarios with the same name"
   ]
  },
  {
   "cell_type": "code",
   "execution_count": null,
   "id": "e4ac7f0f-fd50-444b-966d-80203cab64c3",
   "metadata": {},
   "outputs": [],
   "source": [
    "#Q12. What is method overriding in OOP?\n",
    "#Ans: Method overriding in OOP occurs when a subclass provides a specific implementation for a method that is already defined in its superclass. This allows the subclass to customize or extend the behavior inherited from the parent class."
   ]
  },
  {
   "cell_type": "code",
   "execution_count": null,
   "id": "03c87702-a77b-45d5-b26d-c9f7a46bdd13",
   "metadata": {},
   "outputs": [],
   "source": [
    "#Q13. What is a property decorator in Python?\n",
    "#Ans : The property decorator in Python transforms a method into a property, allowing it to be accessed like an attribute"
   ]
  },
  {
   "cell_type": "code",
   "execution_count": null,
   "id": "dfd778fb-5ffc-4d8e-a846-3fd9f93093d2",
   "metadata": {},
   "outputs": [],
   "source": [
    "#Q14. Why is polymorphism important in OOP?\n",
    "#Ans : Polymorphism allows for code that can work with objects of different classes in a unified way, promoting flexibility and reducing redundancy. It enables developers to write more generic and reusable code, simplifying complex systems."
   ]
  },
  {
   "cell_type": "code",
   "execution_count": null,
   "id": "5064df5c-b479-4baa-98dd-e672545f8846",
   "metadata": {},
   "outputs": [],
   "source": [
    "#Q15.  What is an abstract class in Python?\n",
    "#Ans : In Python, an abstract class is a class that cannot be instantiated directly and serves as a blueprint for other classes. It defines abstract methods, which must be implemented by any subclass that inherits from it, enforcing a specific interface."
   ]
  },
  {
   "cell_type": "code",
   "execution_count": null,
   "id": "c3e4fe47-b914-4fa4-b47d-0142f4052fbf",
   "metadata": {},
   "outputs": [],
   "source": [
    "#Q16.What are the advantages of OOP \n",
    "#Ans : OOP promotes code reusability through inheritance and modularity, leading to more organized and maintainable code"
   ]
  },
  {
   "cell_type": "code",
   "execution_count": null,
   "id": "eb987b62-ba0d-4e0e-99d6-4983b2f9dfcf",
   "metadata": {},
   "outputs": [],
   "source": [
    "#Q17. What is the difference between a class variable and an instance variable?\n",
    "#Ans : Class variables are shared by all instances of a class, meaning they have the same value for every object created from that class.\n",
    "# Instance variables are unique to each instance of a class, allowing each object to have its own distinct value for those variables."
   ]
  },
  {
   "cell_type": "code",
   "execution_count": null,
   "id": "4d7b8cfa-1815-4aab-9956-e52e6cebcc3e",
   "metadata": {},
   "outputs": [],
   "source": [
    "#Q18. What is multiple inheritance in Python?\n",
    "#Ans : Multiple inheritance in Python allows a class to inherit from more than one parent class, acquiring attributes and methods from all of them."
   ]
  },
  {
   "cell_type": "code",
   "execution_count": null,
   "id": "8c3df51a-c5c8-4686-8cab-58f174b2b497",
   "metadata": {},
   "outputs": [],
   "source": [
    "#Q19.  Explain the purpose of ‘’__str__’ and ‘__repr__’ ‘ methods in Python?\n",
    "#Ans : __str__ is designed to provide a human-readable string representation of an object, intended for end-users.\n",
    "# __repr__ aims to produce an unambiguous string representation of an object, often used for debugging and development, ideally recreating the object."
   ]
  },
  {
   "cell_type": "code",
   "execution_count": null,
   "id": "843d4c07-6e2b-4e06-92e9-a3b21dabc17b",
   "metadata": {},
   "outputs": [],
   "source": [
    "#Q20. What is the significance of the ‘super()’ function in Python?\n",
    "#Ans : The super() function in Python is used to call methods from a parent class within a subclass, enabling method overriding and extension"
   ]
  },
  {
   "cell_type": "code",
   "execution_count": null,
   "id": "7a9107d3-5735-450f-9d47-48c8d5e4589f",
   "metadata": {},
   "outputs": [],
   "source": [
    "#Q21. What is the significance of the __del__ method in Python?\n",
    "#Ans : The __del__ method in Python is a destructor, called when an object is about to be garbage collected. "
   ]
  },
  {
   "cell_type": "code",
   "execution_count": null,
   "id": "bcac828f-c8c2-4ca8-98a4-3fb2d4fe0b1a",
   "metadata": {},
   "outputs": [],
   "source": [
    "#Q22. What is the difference between @staticmethod and @classmethod in Python?\n",
    "#Ans : @staticmethod is a function within a class that doesn't receive the instance or class as an implicit first argument, behaving like a regular function.\n",
    "# @classmethod receives the class as an implicit first argument (cls), allowing it to modify class-level attributes or create alternative class constructors."
   ]
  },
  {
   "cell_type": "code",
   "execution_count": null,
   "id": "b4f82098-9af7-4453-8abb-87236f4dd076",
   "metadata": {},
   "outputs": [],
   "source": [
    "#Q23. How does polymorphism work in Python with inheritance?\n",
    "#Ans : In Python with inheritance, polymorphism allows subclasses to override methods from a superclass, enabling objects of different classes to respond to the same method call in their own specific ways."
   ]
  },
  {
   "cell_type": "code",
   "execution_count": null,
   "id": "cf8e8c3a-8b89-4787-9878-2ea99c19f361",
   "metadata": {},
   "outputs": [],
   "source": [
    "#Q24. What is method chaining in Python OOP?\n",
    "#Ans : Method chaining in Python OOP involves calling multiple methods on an object in a single line, where each method returns the object itself. This technique enhances code readability and conciseness by allowing for a fluent, sequential style of operation."
   ]
  },
  {
   "cell_type": "code",
   "execution_count": null,
   "id": "7790e4e1-125c-42da-9b30-6de1ffb60dcb",
   "metadata": {},
   "outputs": [],
   "source": [
    "#Q25. What is the purpose of the __call__ method in Python?\n",
    "#Ans : The __call__ method in Python allows an object to be called like a function. When defined, it enables instances of a class to be invoked directly using parentheses, similar to how functions are called"
   ]
  },
  {
   "cell_type": "code",
   "execution_count": null,
   "id": "71877b39-2b82-4d53-bf00-ffce9b078cdf",
   "metadata": {},
   "outputs": [],
   "source": [
    "#Practical Questions"
   ]
  },
  {
   "cell_type": "code",
   "execution_count": 2,
   "id": "ca2e3bd5-ce9e-4d68-82ec-30657b191dc8",
   "metadata": {},
   "outputs": [],
   "source": [
    "#Q1.  Create a parent class Animal with a method speak() that prints a generic message. Create a child class Dog that overrides the speak() method to print \"Bark!\".\n",
    "class Animal():\n",
    "    def speak(self):\n",
    "        print(\"Animal speaks\")\n",
    "class Dog(Animal):\n",
    "    def speak(self):\n",
    "        print(\"Bark!\")\n"
   ]
  },
  {
   "cell_type": "code",
   "execution_count": 5,
   "id": "e3f38e06-f4d5-4ce8-bf81-75aa3ad75479",
   "metadata": {},
   "outputs": [],
   "source": [
    "animal = Animal()\n",
    "dog = Dog()"
   ]
  },
  {
   "cell_type": "code",
   "execution_count": 7,
   "id": "aa975fb6-facd-4a67-a882-73732d5d37c0",
   "metadata": {},
   "outputs": [
    {
     "name": "stdout",
     "output_type": "stream",
     "text": [
      "Bark!\n"
     ]
    }
   ],
   "source": [
    "dog.speak()\n"
   ]
  },
  {
   "cell_type": "code",
   "execution_count": 1,
   "id": "2cff15a2-20ab-4213-b2d4-155a40a59e51",
   "metadata": {},
   "outputs": [
    {
     "name": "stdout",
     "output_type": "stream",
     "text": [
      "Area of circle: 78.53981633974483\n",
      "Area of rectangle: 24\n"
     ]
    }
   ],
   "source": [
    "#Q2. Write a program to create an abstract class Shape with a method area(). Derive classes Circle and Rectangle from it and implement the area() method in both.\n",
    "from abc import ABC, abstractmethod\n",
    "import math\n",
    "\n",
    "class Shape(ABC):\n",
    "    @abstractmethod\n",
    "    def area(self):\n",
    "        pass\n",
    "\n",
    "class Circle(Shape):\n",
    "    def __init__(self, radius):\n",
    "        self.radius = radius\n",
    "\n",
    "    def area(self):\n",
    "        return math.pi * self.radius * self.radius\n",
    "\n",
    "class Rectangle(Shape):\n",
    "    def __init__(self, length, width):\n",
    "        self.length = length\n",
    "        self.width = width\n",
    "\n",
    "    def area(self):\n",
    "        return self.length * self.width\n",
    "\n",
    "circle = Circle(5)\n",
    "rectangle = Rectangle(4, 6)\n",
    "\n",
    "print(f\"Area of circle: {circle.area()}\")\n",
    "print(f\"Area of rectangle: {rectangle.area()}\")\n"
   ]
  },
  {
   "cell_type": "code",
   "execution_count": 39,
   "id": "55d5dd01-76d8-40ec-94b0-537f1519d8d5",
   "metadata": {},
   "outputs": [
    {
     "name": "stdout",
     "output_type": "stream",
     "text": [
      "Vehicle type: Generic\n",
      "Vehicle type: Car, Doors: 4\n",
      "Vehicle type: Electric Car, Doors: 4, Battery: 75 kWh\n",
      "Vehicle type: Electric Car, Doors: 2, Battery: 60 kWh\n"
     ]
    }
   ],
   "source": [
    "#Q3.  Implement a multi-level inheritance scenario where a class Vehicle has an attribute type. Derive a class Car and further derive a class ElectricCar that adds a battery attribute.\n",
    "\n",
    "class Vehicle:\n",
    "\n",
    "    def __init__(self, vehicle_type):\n",
    "        self.vehicle_type = vehicle_type\n",
    "\n",
    "    def get_type(self):\n",
    "        return self.vehicle_type\n",
    "\n",
    "class Car(Vehicle):\n",
    "\n",
    "    def __init__(self, vehicle_type, num_doors):\n",
    "        super().__init__(vehicle_type)\n",
    "        self.num_doors = num_doors\n",
    "\n",
    "    def get_doors(self):\n",
    "        return self.num_doors\n",
    "\n",
    "class ElectricCar(Car):\n",
    "\n",
    "    def __init__(self, vehicle_type, num_doors, battery_capacity):\n",
    "        super().__init__(vehicle_type, num_doors)\n",
    "        self.battery_capacity = battery_capacity\n",
    "\n",
    "    def get_battery_capacity(self):\n",
    "        return self.battery_capacity\n",
    "\n",
    "vehicle = Vehicle(\"Generic\")\n",
    "print(f\"Vehicle type: {vehicle.get_type()}\")\n",
    "\n",
    "car = Car(\"Car\", 4)\n",
    "print(f\"Vehicle type: {car.get_type()}, Doors: {car.get_doors()}\")\n",
    "\n",
    "electric_car = ElectricCar(\"Electric Car\", 4, 75)\n",
    "print(f\"Vehicle type: {electric_car.get_type()}, Doors: {electric_car.get_doors()}, Battery: {electric_car.get_battery_capacity()} kWh\")\n",
    "\n",
    "electric_car2 = ElectricCar(\"Electric Car\", 2, 60)\n",
    "print(f\"Vehicle type: {electric_car2.get_type()}, Doors: {electric_car2.get_doors()}, Battery: {electric_car2.get_battery_capacity()} kWh\")"
   ]
  },
  {
   "cell_type": "code",
   "execution_count": 2,
   "id": "ba5f0c78-b3cf-4075-ad10-a3f56058d649",
   "metadata": {},
   "outputs": [
    {
     "name": "stdout",
     "output_type": "stream",
     "text": [
      "Bird can fly\n",
      "Sparrow flies with agility\n",
      "Penguin swims, cannot fly\n"
     ]
    }
   ],
   "source": [
    "#Q4.  Demonstrate polymorphism by creating a base class Bird with a method fly(). Create two derived classes Sparrow and Penguin that override the fly() method.\n",
    "class Bird:\n",
    "    def fly(self):\n",
    "        print(\"Bird can fly\")\n",
    "\n",
    "class Sparrow(Bird):\n",
    "    def fly(self):\n",
    "        print(\"Sparrow flies with agility\")\n",
    "\n",
    "class Penguin(Bird):\n",
    "    def fly(self):\n",
    "        print(\"Penguin swims, cannot fly\")\n",
    "\n",
    "bird = Bird()\n",
    "sparrow = Sparrow()\n",
    "penguin = Penguin()\n",
    "birds = [bird, sparrow, penguin]\n",
    "\n",
    "for animal in birds:\n",
    "    animal.fly()"
   ]
  },
  {
   "cell_type": "code",
   "execution_count": 8,
   "id": "7bb47bff-5f39-4c74-a480-36539b754391",
   "metadata": {},
   "outputs": [
    {
     "name": "stdout",
     "output_type": "stream",
     "text": [
      "Deposited $500. New balance: $1500\n",
      "Withdrew $200. New balance: $1300\n",
      "Current balance: $1300\n"
     ]
    }
   ],
   "source": [
    "#Q5. Write a program to demonstrate encapsulation by creating a class BankAccount with private attributes balance and methods to deposit, withdraw, and check balance.\n",
    "class BankAccount:\n",
    "    def __init__(self, initial_balance=0):\n",
    "        self.__balance = initial_balance  # Private attribute\n",
    "\n",
    "    def deposit(self, amount):\n",
    "        if amount > 0:\n",
    "            self.__balance += amount\n",
    "            print(f\"Deposited ${amount}. New balance: ${self.__balance}\")\n",
    "        else:\n",
    "            print(\"Invalid deposit amount.\")\n",
    "\n",
    "    def withdraw(self, amount):\n",
    "        if 0 < amount <= self.__balance:\n",
    "            self.__balance -= amount\n",
    "            print(f\"Withdrew ${amount}. New balance: ${self.__balance}\")\n",
    "        else:\n",
    "            print(\"Insufficient funds or invalid withdrawal amount.\")\n",
    "\n",
    "    def check_balance(self):\n",
    "        print(f\"Current balance: ${self.__balance}\")\n",
    "\n",
    "account = BankAccount(1000)\n",
    "account.deposit(500)\n",
    "account.withdraw(200)\n",
    "account.check_balance()"
   ]
  },
  {
   "cell_type": "code",
   "execution_count": 15,
   "id": "46f88ee2-7c16-4f3b-80c5-d7b369f310c9",
   "metadata": {},
   "outputs": [],
   "source": [
    "#Q6. Demonstrate runtime polymorphism using a method play() in a base class Instrument. Derive classes Guitar and Piano that implement their own version of play().\n",
    "class Instrument:\n",
    "    def play(self):\n",
    "        print(\"Playing an instrument\")\n",
    "\n",
    "class Guitar(Instrument):\n",
    "    def play(self):\n",
    "        print(\"Playing a guitar: Strumming chords\")\n",
    "\n",
    "class Piano(Instrument):\n",
    "    def play(self):\n",
    "        print(\"Playing a piano: Tinkling keys\")\n"
   ]
  },
  {
   "cell_type": "code",
   "execution_count": 17,
   "id": "0fa22e24-4978-491f-a6a6-ae9177d18866",
   "metadata": {},
   "outputs": [
    {
     "name": "stdout",
     "output_type": "stream",
     "text": [
      "Playing a guitar: Strumming chords\n",
      "Playing a piano: Tinkling keys\n",
      "Playing an instrument\n"
     ]
    }
   ],
   "source": [
    "def perform_music(instrument):\n",
    "    instrument.play()\n",
    "\n",
    "guitar = Guitar()\n",
    "piano = Piano()\n",
    "instrument = Instrument()\n",
    "\n",
    "perform_music(guitar)\n",
    "perform_music(piano)\n",
    "perform_music(instrument)"
   ]
  },
  {
   "cell_type": "code",
   "execution_count": 10,
   "id": "dd2c61eb-647e-48a3-b705-9a1bb876b296",
   "metadata": {},
   "outputs": [
    {
     "name": "stdout",
     "output_type": "stream",
     "text": [
      "Addition result: 8\n",
      "Subtraction result: 6\n"
     ]
    }
   ],
   "source": [
    "#Q7. Create a class MathOperations with a class method add_numbers() to add two numbers and a static method subtract_numbers() to subtract two numbers.\n",
    "class MathOperations:\n",
    "    @classmethod\n",
    "    def add_numbers(cls, num1, num2):\n",
    "        return num1 + num2\n",
    "\n",
    "    @staticmethod\n",
    "    def subtract_numbers(num1, num2):\n",
    "        return num1 - num2\n",
    "\n",
    "result_add = MathOperations.add_numbers(5, 3)\n",
    "result_subtract = MathOperations.subtract_numbers(10, 4)\n",
    "\n",
    "print(f\"Addition result: {result_add}\")\n",
    "print(f\"Subtraction result: {result_subtract}\")"
   ]
  },
  {
   "cell_type": "code",
   "execution_count": 42,
   "id": "106d69dd-bdc2-42d9-8f65-cc832393289a",
   "metadata": {},
   "outputs": [
    {
     "name": "stdout",
     "output_type": "stream",
     "text": [
      "Total persons created: 3\n"
     ]
    }
   ],
   "source": [
    "#Q8.  Implement a class Person with a class method to count the total number of persons created.\n",
    "\n",
    "class Person:\n",
    "    _person_count = 0\n",
    "\n",
    "    def __init__(self, name):\n",
    "        self.name = name\n",
    "        Person._person_count += 1\n",
    "\n",
    "    @classmethod\n",
    "    def get_person_count(cls):\n",
    "        return cls._person_count\n",
    "\n",
    "person1 = Person(\"Alice\")\n",
    "person2 = Person(\"Bob\")\n",
    "person3 = Person(\"Charlie\")\n",
    "\n",
    "print(f\"Total persons created: {Person.get_person_count()}\")"
   ]
  },
  {
   "cell_type": "code",
   "execution_count": 41,
   "id": "8752c589-c384-43a4-aa26-2d03d4a1a5ac",
   "metadata": {},
   "outputs": [],
   "source": [
    "#Q9.  Write a class Fraction with attributes numerator and denominator. Override the str method to display the fraction as \"numerator/denominator\"\n",
    "\n",
    "class Fraction:\n",
    "\n",
    "    def __init__(self, numerator, denominator):\n",
    "        self.numerator = numerator\n",
    "        self.denominator = denominator\n",
    "\n",
    "    def __str__(self):\n",
    "        \"\"\"Returns a string representation of the fraction.\"\"\"\n",
    "        return f\"{self.numerator}/{self.denominator}\"\n",
    "\n",
    "fraction1 = Fraction(3, 4)\n",
    "print(fraction1)  # Output: 3/4\n",
    "\n",
    "fraction2 = Fraction(1, 2)\n",
    "print(fraction2)  # Output: 1/2\n",
    "\n",
    "fraction3 = Fraction(5, 7)\n",
    "print(fraction3) # Output: 5/7"
   ]
  },
  {
   "cell_type": "code",
   "execution_count": 25,
   "id": "cf1efeb7-5131-4d6d-b219-f24fee6f84bb",
   "metadata": {},
   "outputs": [
    {
     "name": "stdout",
     "output_type": "stream",
     "text": [
      "v1: (2, 3)\n",
      "v2: (1, -1)\n",
      "v1 + v2: (3, 2)\n"
     ]
    }
   ],
   "source": [
    "#Q10.  Demonstrate operator overloading by creating a class Vector and overriding the add method to add two vectors\n",
    "class Vector:\n",
    "    def __init__(self, x, y):\n",
    "        self.x = x\n",
    "        self.y = y\n",
    "\n",
    "    def __add__(self, other):\n",
    "        return Vector(self.x + other.x, self.y + other.y)\n",
    "\n",
    "    def __str__(self):\n",
    "        return f\"({self.x}, {self.y})\"\n",
    "\n",
    "v1 = Vector(2, 3)\n",
    "v2 = Vector(1, -1)\n",
    "v3 = v1 + v2\n",
    "\n",
    "print(\"v1:\", v1)\n",
    "print(\"v2:\", v2)\n",
    "print(\"v1 + v2:\", v3)"
   ]
  },
  {
   "cell_type": "code",
   "execution_count": 24,
   "id": "48f73383-1698-4e59-adf8-c7068a6bdf53",
   "metadata": {},
   "outputs": [
    {
     "name": "stdout",
     "output_type": "stream",
     "text": [
      "Hello, my name is Alice and I am 30 years old.\n",
      "Hello, my name is Bob and I am 25 years old.\n"
     ]
    }
   ],
   "source": [
    "#Q11. Create a class Person with attributes name and age. Add a method greet() that prints \"Hello, my name is {name} and I am {age} years old.\"\n",
    "\n",
    "class Person:\n",
    "    def __init__(self, name, age):\n",
    "        self.name = name\n",
    "        self.age = age\n",
    "\n",
    "    def greet(self):\n",
    "        print(f\"Hello, my name is {self.name} and I am {self.age} years old.\")\n",
    "\n",
    "person1 = Person(\"Alice\", 30)\n",
    "person1.greet()\n",
    "\n",
    "person2 = Person(\"Bob\", 25)\n",
    "person2.greet()"
   ]
  },
  {
   "cell_type": "code",
   "execution_count": 23,
   "id": "7109afe1-5b90-4625-baae-e0d3c18839ca",
   "metadata": {},
   "outputs": [
    {
     "name": "stdout",
     "output_type": "stream",
     "text": [
      "Charlie's average grade: 86.25\n",
      "David's average grade: 75.0\n",
      "Eve's average grade: 0\n"
     ]
    }
   ],
   "source": [
    "#Q12. Implement a class Student with attributes name and grades. Create a method average_grade() to compute the average of the grades.\n",
    "\n",
    "class Student:\n",
    "    def __init__(self, name, grades):\n",
    "        self.name = name\n",
    "        self.grades = grades\n",
    "\n",
    "    def average_grade(self):\n",
    "        if not self.grades:\n",
    "            return 0\n",
    "        return sum(self.grades) / len(self.grades)\n",
    "\n",
    "student1 = Student(\"Charlie\", [85, 90, 78, 92])\n",
    "average1 = student1.average_grade()\n",
    "print(f\"{student1.name}'s average grade: {average1}\")\n",
    "\n",
    "student2 = Student(\"David\", [70, 75, 80])\n",
    "average2 = student2.average_grade()\n",
    "print(f\"{student2.name}'s average grade: {average2}\")\n",
    "\n",
    "student3 = Student(\"Eve\", []) #testing empty list case\n",
    "average3 = student3.average_grade()\n",
    "print(f\"{student3.name}'s average grade: {average3}\")\n"
   ]
  },
  {
   "cell_type": "code",
   "execution_count": 22,
   "id": "9330ac07-86b0-4042-b653-5af6a5d505df",
   "metadata": {},
   "outputs": [
    {
     "name": "stdout",
     "output_type": "stream",
     "text": [
      "Rectangle 1 area: 50\n",
      "Rectangle 2 area: 21\n"
     ]
    }
   ],
   "source": [
    "#Q13. 13. Create a class Rectangle with methods set_dimensions() to set the dimensions and area() to calculate the area.\n",
    "\n",
    "class Rectangle:\n",
    "\n",
    "    def __init__(self):\n",
    "        self.width = 0\n",
    "        self.height = 0\n",
    "\n",
    "    def set_dimensions(self, width, height):\n",
    "        self.width = width\n",
    "        self.height = height\n",
    "\n",
    "    def area(self):\n",
    "        return self.width * self.height\n",
    "\n",
    "rectangle1 = Rectangle()\n",
    "rectangle1.set_dimensions(5, 10)\n",
    "area1 = rectangle1.area()\n",
    "print(f\"Rectangle 1 area: {area1}\")\n",
    "\n",
    "rectangle2 = Rectangle()\n",
    "rectangle2.set_dimensions(3, 7)\n",
    "area2 = rectangle2.area()\n",
    "print(f\"Rectangle 2 area: {area2}\")"
   ]
  },
  {
   "cell_type": "code",
   "execution_count": 27,
   "id": "21691ee2-d9df-472e-a1dd-f7a3889011f3",
   "metadata": {},
   "outputs": [
    {
     "name": "stdout",
     "output_type": "stream",
     "text": [
      "Employee salary: $600\n",
      "Manager salary: $1500\n"
     ]
    }
   ],
   "source": [
    "#Q14. Create a class Employee with a method calculate_salary() that computes the salary based on hours worked and hourly rate. Create a derived class Manager that adds a bonus to the salary.\n",
    "\n",
    "class Employee:\n",
    "    def __init__(self, hours_worked, hourly_rate):\n",
    "        self.hours_worked = hours_worked\n",
    "        self.hourly_rate = hourly_rate\n",
    "\n",
    "    def calculate_salary(self):\n",
    "        return self.hours_worked * self.hourly_rate\n",
    "\n",
    "class Manager(Employee):\n",
    "    def __init__(self, hours_worked, hourly_rate, bonus):\n",
    "        super().__init__(hours_worked, hourly_rate)\n",
    "        self.bonus = bonus\n",
    "\n",
    "    def calculate_salary(self):\n",
    "        base_salary = super().calculate_salary()\n",
    "        return base_salary + self.bonus\n",
    "\n",
    "employee1 = Employee(40, 15)\n",
    "salary1 = employee1.calculate_salary()\n",
    "print(f\"Employee salary: ${salary1}\")\n",
    "\n",
    "manager1 = Manager(40, 25, 500)\n",
    "salary2 = manager1.calculate_salary()\n",
    "print(f\"Manager salary: ${salary2}\")"
   ]
  },
  {
   "cell_type": "code",
   "execution_count": 28,
   "id": "188b8801-362a-4677-a958-c8374e9b592e",
   "metadata": {
    "scrolled": true
   },
   "outputs": [
    {
     "name": "stdout",
     "output_type": "stream",
     "text": [
      "Total price of Laptop: $2400.0\n",
      "Total price of Headphones: $250.0\n"
     ]
    }
   ],
   "source": [
    "#Q15. Create a class Product with attributes name, price, and quantity. Implement a method total_price() that calculates the total price of the product.\n",
    "\n",
    "class Product:\n",
    "    def __init__(self, name, price, quantity):\n",
    "        self.name = name\n",
    "        self.price = price\n",
    "        self.quantity = quantity\n",
    "\n",
    "    def total_price(self):\n",
    "        return self.price * self.quantity\n",
    "\n",
    "product1 = Product(\"Laptop\", 1200.00, 2)\n",
    "total1 = product1.total_price()\n",
    "print(f\"Total price of {product1.name}: ${total1}\")\n",
    "\n",
    "product2 = Product(\"Headphones\", 50.00, 5)\n",
    "total2 = product2.total_price()\n",
    "print(f\"Total price of {product2.name}: ${total2}\")"
   ]
  },
  {
   "cell_type": "code",
   "execution_count": 35,
   "id": "c5aff259-6594-47b9-9b7f-f5680c9327a4",
   "metadata": {},
   "outputs": [
    {
     "name": "stdout",
     "output_type": "stream",
     "text": [
      "Cow says: Moo!\n",
      "Sheep says: Baa!\n"
     ]
    }
   ],
   "source": [
    "#Q16.  Create a class Animal with an abstract method sound(). Create two derived classes Cow and Sheep that implement the sound() method.\n",
    "\n",
    "from abc import ABC, abstractmethod\n",
    "\n",
    "class Animal(ABC):\n",
    "    @abstractmethod\n",
    "    def sound(self):\n",
    "        pass\n",
    "\n",
    "class Cow(Animal):\n",
    "    def sound(self):\n",
    "        return \"Moo!\"\n",
    "\n",
    "class Sheep(Animal):\n",
    "    def sound(self):\n",
    "        return \"Baa!\"\n",
    "\n",
    "cow = Cow()\n",
    "print(f\"Cow says: {cow.sound()}\")\n",
    "\n",
    "sheep = Sheep()\n",
    "print(f\"Sheep says: {sheep.sound()}\")"
   ]
  },
  {
   "cell_type": "code",
   "execution_count": 37,
   "id": "bb0fed72-8cce-4a16-91f3-1d614b41e297",
   "metadata": {},
   "outputs": [
    {
     "name": "stdout",
     "output_type": "stream",
     "text": [
      "'Pride and Prejudice' by Jane Austen (1813)\n",
      "'To Kill a Mockingbird' by Harper Lee (1960)\n"
     ]
    }
   ],
   "source": [
    "#Q17. Create a class Book with attributes title, author, and year_published. Add a method get_book_info() that returns a formatted string with the book's details.\n",
    "\n",
    "class Book:\n",
    "   \n",
    "    def __init__(self, title, author, year_published):\n",
    "        self.title = title\n",
    "        self.author = author\n",
    "        self.year_published = year_published\n",
    "\n",
    "    def get_book_info(self):\n",
    "        return f\"'{self.title}' by {self.author} ({self.year_published})\"\n",
    "\n",
    "book1 = Book(\"Pride and Prejudice\", \"Jane Austen\", 1813)\n",
    "info1 = book1.get_book_info()\n",
    "print(info1)\n",
    "\n",
    "book2 = Book(\"To Kill a Mockingbird\", \"Harper Lee\", 1960)\n",
    "info2 = book2.get_book_info()\n",
    "print(info2)"
   ]
  },
  {
   "cell_type": "code",
   "execution_count": 38,
   "id": "e7865a57-8e0e-4db8-bcbf-dff98fab13c7",
   "metadata": {},
   "outputs": [
    {
     "name": "stdout",
     "output_type": "stream",
     "text": [
      "Address: 123 Main St, Price: $250000.0\n",
      "Address: 456 Grand Ave, Price: $1500000.0\n",
      "Number of Rooms: 12\n",
      "Address: 789 Oak Ln, Price: $300000.0\n",
      "Address: 1011 Pine Rd, Price: $2000000.0\n",
      "Number of Rooms: 20\n"
     ]
    }
   ],
   "source": [
    "#Q18. Create a class House with attributes address and price. Create a derived class Mansion that adds an attribute number_of_rooms.\n",
    "\n",
    "class House:\n",
    "    def __init__(self, address, price):\n",
    "        self.address = address\n",
    "        self.price = price\n",
    "\n",
    "    def display_info(self):\n",
    "      print(f\"Address: {self.address}, Price: ${self.price}\")\n",
    "\n",
    "\n",
    "class Mansion(House):\n",
    "    \n",
    "    def __init__(self, address, price, number_of_rooms):\n",
    "        super().__init__(address, price)\n",
    "        self.number_of_rooms = number_of_rooms\n",
    "\n",
    "    def display_mansion_info(self):\n",
    "        super().display_info()\n",
    "        print(f\"Number of Rooms: {self.number_of_rooms}\")\n",
    "\n",
    "house1 = House(\"123 Main St\", 250000.00)\n",
    "house1.display_info()\n",
    "\n",
    "mansion1 = Mansion(\"456 Grand Ave\", 1500000.00, 12)\n",
    "mansion1.display_mansion_info()\n",
    "\n",
    "house2 = House(\"789 Oak Ln\", 300000.00)\n",
    "house2.display_info()\n",
    "\n",
    "mansion2 = Mansion(\"1011 Pine Rd\", 2000000.00, 20)\n",
    "mansion2.display_mansion_info()"
   ]
  },
  {
   "cell_type": "code",
   "execution_count": null,
   "id": "db2a825e-b27d-4c26-97ce-427f9478e17f",
   "metadata": {},
   "outputs": [],
   "source": []
  }
 ],
 "metadata": {
  "kernelspec": {
   "display_name": "Python 3 (ipykernel)",
   "language": "python",
   "name": "python3"
  },
  "language_info": {
   "codemirror_mode": {
    "name": "ipython",
    "version": 3
   },
   "file_extension": ".py",
   "mimetype": "text/x-python",
   "name": "python",
   "nbconvert_exporter": "python",
   "pygments_lexer": "ipython3",
   "version": "3.11.5"
  }
 },
 "nbformat": 4,
 "nbformat_minor": 5
}
